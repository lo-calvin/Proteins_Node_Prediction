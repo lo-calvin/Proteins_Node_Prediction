{
 "cells": [
  {
   "cell_type": "markdown",
   "metadata": {},
   "source": [
    "# Protein Label Prediction\n",
    "CS6140 Calvin Lo"
   ]
  },
  {
   "cell_type": "markdown",
   "metadata": {},
   "source": [
    "## Setup\n",
    "Load the data from Open Graph Benchmark"
   ]
  },
  {
   "cell_type": "code",
   "execution_count": null,
   "metadata": {},
   "outputs": [
    {
     "name": "stdout",
     "output_type": "stream",
     "text": [
      "Dataset loaded successfully!\n"
     ]
    }
   ],
   "source": [
    "import torch\n",
    "from ogb.nodeproppred import NodePropPredDataset\n",
    "\n",
    "original_torch_load = torch.load\n",
    "def torch_load_with_weights_only_false(*args, **kwargs):\n",
    "    kwargs['weights_only'] = False\n",
    "    return original_torch_load(*args, **kwargs)\n",
    "\n",
    "torch.load = torch_load_with_weights_only_false\n",
    "\n",
    "# Load the dataset\n",
    "dataset = NodePropPredDataset(name=\"ogbn-proteins\", root=\"dataset/\")\n",
    "\n",
    "# Restore torch.load to its original function\n",
    "torch.load = original_torch_load\n",
    "split_idx = dataset.get_idx_split()  # which ones are training nodes, val, etc"
   ]
  },
  {
   "cell_type": "markdown",
   "metadata": {},
   "source": [
    "graph_data: \n",
    "- edge_index: COO format (coordinate format) \n",
    "    - shape: (2, 79122504)\n",
    "    - 79122504 edges\n",
    "    - 0: source node, 1: destination node\n",
    "- edge_feat:\n",
    "    - shape: (79122504, 8)\n",
    "    - 8 dimensional feature vector for each edge\n",
    "- node_feat:\n",
    "    - Node features: none for this dataset\n",
    "- node_species:\n",
    "    - shape: (132534, 1)\n",
    "    - Species identifiers for each node\n",
    "- num_nodes:\n",
    "    - 132534 nodes\n",
    "\n",
    "node_labels:\n",
    "- shape: (132534, 112)\n",
    "- 112 types of labels"
   ]
  },
  {
   "cell_type": "markdown",
   "metadata": {},
   "source": [
    "Prepare data for training: Create masks for train, val, and test nodes. Load the data into a PyGeometric data object. Create 40 batches using RandomNodeLoader."
   ]
  },
  {
   "cell_type": "code",
   "execution_count": 2,
   "metadata": {},
   "outputs": [
    {
     "data": {
      "text/plain": [
       "20"
      ]
     },
     "execution_count": 2,
     "metadata": {},
     "output_type": "execute_result"
    }
   ],
   "source": [
    "from torch_geometric.utils import scatter\n",
    "from torch_geometric.loader import RandomNodeLoader\n",
    "from torch_geometric.data import Data\n",
    "import gc\n",
    "\n",
    "# Access the single graph\n",
    "graph_data, node_labels = dataset[0]\n",
    "\n",
    "# Split the nodes based on the split indices\n",
    "split_idx = dataset.get_idx_split()  # which ones are training, val, test nodes\n",
    "train_idx = split_idx[\"train\"]\n",
    "valid_idx = split_idx[\"valid\"]\n",
    "test_idx = split_idx[\"test\"]\n",
    "\n",
    "# Create masks\n",
    "train_mask = torch.zeros(graph_data['num_nodes'], dtype=torch.bool)\n",
    "valid_mask = torch.zeros(graph_data['num_nodes'], dtype=torch.bool)\n",
    "test_mask = torch.zeros(graph_data['num_nodes'], dtype=torch.bool)\n",
    "\n",
    "train_mask[train_idx] = True\n",
    "valid_mask[valid_idx] = True\n",
    "test_mask[test_idx] = True\n",
    "\n",
    "# Convert edge features and edge index to tensors\n",
    "graph_data['edge_feat'] = torch.tensor(graph_data['edge_feat'], dtype=torch.float32)\n",
    "graph_data['edge_index'] = torch.tensor(graph_data['edge_index'], dtype=torch.long)\n",
    "node_labels = torch.tensor(node_labels, dtype=torch.long)\n",
    "num_nodes = int(graph_data['num_nodes'])\n",
    "\n",
    "# initialize node features by aggregating edge features\n",
    "graph_data['node_feat'] = scatter(graph_data['edge_feat'], \n",
    "                                  graph_data['edge_index'][1],\n",
    "                                  dim=0,\n",
    "                                  dim_size=graph_data['num_nodes'],\n",
    "                                  reduce='sum')\n",
    "\n",
    "# load graph into PyG data object\n",
    "data = Data(\n",
    "    edge_index=graph_data['edge_index'],\n",
    "    edge_attr=graph_data['edge_feat'],\n",
    "    num_nodes=num_nodes,\n",
    "    y=node_labels,\n",
    "    x=graph_data['node_feat'],\n",
    "    train_mask=train_mask,\n",
    "    valid_mask=valid_mask,\n",
    "    test_mask=test_mask\n",
    ")\n",
    "\n",
    "\n",
    "train_loader = RandomNodeLoader(data, num_parts=40, shuffle=True,\n",
    "                                num_workers=0)\n",
    "test_loader = RandomNodeLoader(data, num_parts=10, num_workers=0)\n",
    "\n",
    "\n",
    "# Delete unnecessary variables\n",
    "del graph_data\n",
    "del node_labels\n",
    "del split_idx\n",
    "del train_idx\n",
    "del valid_idx\n",
    "del test_idx\n",
    "del train_mask\n",
    "del valid_mask\n",
    "del test_mask\n",
    "\n",
    "# Force garbage collection to free up memory\n",
    "gc.collect()\n"
   ]
  },
  {
   "cell_type": "code",
   "execution_count": 3,
   "metadata": {},
   "outputs": [],
   "source": [
    "from torch.nn import Linear\n",
    "import torch.nn.functional as F\n",
    "from torch_geometric.nn import GCNConv\n",
    "from torch_geometric.nn import global_mean_pool\n",
    "import torch\n",
    "from ogb.nodeproppred import Evaluator, PygNodePropPredDataset\n",
    "from torch.nn import LayerNorm, Linear, ReLU\n",
    "from tqdm import tqdm\n",
    "from torch_geometric.loader import RandomNodeLoader\n",
    "from torch_geometric.nn import DeepGCNLayer, GENConv\n",
    "from torch_geometric.utils import scatter\n",
    "\n",
    "class DeeperGCN(torch.nn.Module):\n",
    "    def __init__(self, in_channels, edge_in_channels, hidden_channels, num_classes, num_layers):\n",
    "        super().__init__()\n",
    "        torch.manual_seed(12345)\n",
    "\n",
    "        self.node_encoder = Linear(in_channels, hidden_channels)    \n",
    "        self.edge_encoder = Linear(edge_in_channels, hidden_channels)\n",
    "        self.layers = torch.nn.ModuleList()\n",
    "\n",
    "        for i in range(0, num_layers):\n",
    "            # num_layers is layers in MLP\n",
    "            conv = GENConv(hidden_channels, hidden_channels, aggr='softmax',\n",
    "                           t=1.0, learn_t=True, num_layers=2, norm='layer')\n",
    "            norm = LayerNorm(hidden_channels, elementwise_affine=True)\n",
    "            act = ReLU(inplace=True)\n",
    "            layer = DeepGCNLayer(conv, norm, act, block='res+', dropout=0.1)\n",
    "            self.layers.append(layer)\n",
    "\n",
    "        self.lin = Linear(hidden_channels, num_classes)\n",
    "\n",
    "    def forward(self, x, edge_index, edge_feat):\n",
    "        # encode node and edge features to higher dimensional space\n",
    "        h = self.node_encoder(x)\n",
    "        edge_embeddings = self.edge_encoder(edge_feat)\n",
    "\n",
    "        # pass through layers\n",
    "        for layer in self.layers:\n",
    "            h = layer(h, edge_index, edge_embeddings)\n",
    "  \n",
    "        # drop out and classifier\n",
    "        h = F.dropout(h, p=0.1, training=self.training)\n",
    "        h = self.lin(h)\n",
    "        \n",
    "        return h\n",
    "    \n",
    "\n",
    "def train(model, optimizer, criterion, train_loader, epoch):\n",
    "    device = torch.device('cuda' if torch.cuda.is_available() else 'cpu')\n",
    "    model.train()\n",
    "    total_loss = total_examples = 0\n",
    "    pbar = tqdm(total=len(train_loader))\n",
    "    pbar.set_description(f'Training epoch: {epoch:04d}')\n",
    "\n",
    "    for batch in train_loader:\n",
    "        optimizer.zero_grad()\n",
    "        batch = batch.to(device)\n",
    "        out = model(batch.x, batch.edge_index, batch.edge_attr)\n",
    "        loss = criterion(out[batch.train_mask], batch.y[batch.train_mask].float())\n",
    "        loss.backward()\n",
    "        optimizer.step()\n",
    "\n",
    "        total_loss += float(loss) * int(batch.train_mask.sum())\n",
    "        total_examples += int(batch.train_mask.sum())\n",
    "        torch.cuda.empty_cache()\n",
    "        pbar.update(1)\n",
    "\n",
    "    pbar.close()\n",
    "\n",
    "    return total_loss / total_examples\n",
    "\n",
    "@torch.no_grad()\n",
    "def test(model, test_loader, epoch, device, evaluator):\n",
    "    model.eval()\n",
    "\n",
    "    y_true = {'train': [], 'valid': [], 'test': []}\n",
    "    y_pred = {'train': [], 'valid': [], 'test': []}\n",
    "\n",
    "    pbar = tqdm(total=len(test_loader))\n",
    "    pbar.set_description(f'Evaluating epoch: {epoch:04d}')\n",
    "\n",
    "    for batch in test_loader:\n",
    "        batch = batch.to(device)\n",
    "        out = model(batch.x, batch.edge_index, batch.edge_attr)\n",
    "\n",
    "        for split in y_true.keys():\n",
    "            mask = batch[f'{split}_mask']\n",
    "            y_true[split].append(batch.y[mask].cpu())\n",
    "            y_pred[split].append(out[mask].cpu())\n",
    "        torch.cuda.empty_cache()\n",
    "        pbar.update(1)\n",
    "\n",
    "    pbar.close()\n",
    "\n",
    "    train_rocauc = evaluator.eval({\n",
    "        'y_true': torch.cat(y_true['train'], dim=0),\n",
    "        'y_pred': torch.cat(y_pred['train'], dim=0),\n",
    "    })['rocauc']\n",
    "\n",
    "    valid_rocauc = evaluator.eval({\n",
    "        'y_true': torch.cat(y_true['valid'], dim=0),\n",
    "        'y_pred': torch.cat(y_pred['valid'], dim=0),\n",
    "    })['rocauc']\n",
    "\n",
    "    test_rocauc = evaluator.eval({\n",
    "        'y_true': torch.cat(y_true['test'], dim=0),\n",
    "        'y_pred': torch.cat(y_pred['test'], dim=0),\n",
    "    })['rocauc']\n",
    "\n",
    "    return train_rocauc, valid_rocauc, test_rocauc"
   ]
  },
  {
   "cell_type": "code",
   "execution_count": 4,
   "metadata": {},
   "outputs": [],
   "source": [
    "device = torch.device('cuda' if torch.cuda.is_available() else 'cpu')\n",
    "model = DeeperGCN(in_channels=8,\n",
    "                  edge_in_channels=8,\n",
    "                  hidden_channels=64,\n",
    "                  num_classes=112,\n",
    "                  num_layers=50).to(device)\n",
    "optimizer = torch.optim.Adam(model.parameters(), lr=0.01)\n",
    "criterion = torch.nn.BCEWithLogitsLoss()\n",
    "evaluator = Evaluator('ogbn-proteins')\n"
   ]
  },
  {
   "cell_type": "markdown",
   "metadata": {},
   "source": [
    "Training block"
   ]
  },
  {
   "cell_type": "code",
   "execution_count": 5,
   "metadata": {},
   "outputs": [
    {
     "name": "stderr",
     "output_type": "stream",
     "text": [
      "Training epoch: 0001: 100%|██████████| 40/40 [01:32<00:00,  2.32s/it]\n",
      "Evaluating epoch: 0001: 100%|██████████| 10/10 [13:01<00:00, 78.12s/it]\n"
     ]
    },
    {
     "name": "stdout",
     "output_type": "stream",
     "text": [
      "[Epoch 1] Loss: 1.3865, Train: 0.7296, Val: 0.6974, Test: 0.6483\n",
      "New best model saved (Val ROC AUC: 0.6974)\n"
     ]
    },
    {
     "name": "stderr",
     "output_type": "stream",
     "text": [
      "Training epoch: 0002: 100%|██████████| 40/40 [01:27<00:00,  2.19s/it]\n",
      "Evaluating epoch: 0002: 100%|██████████| 10/10 [13:12<00:00, 79.24s/it]\n"
     ]
    },
    {
     "name": "stdout",
     "output_type": "stream",
     "text": [
      "[Epoch 2] Loss: 0.3472, Train: 0.7855, Val: 0.7696, Test: 0.7198\n",
      "New best model saved (Val ROC AUC: 0.7696)\n"
     ]
    },
    {
     "name": "stderr",
     "output_type": "stream",
     "text": [
      "Training epoch: 0003: 100%|██████████| 40/40 [01:28<00:00,  2.20s/it]\n",
      "Evaluating epoch: 0003: 100%|██████████| 10/10 [12:49<00:00, 76.94s/it]\n"
     ]
    },
    {
     "name": "stdout",
     "output_type": "stream",
     "text": [
      "[Epoch 3] Loss: 0.3040, Train: 0.7986, Val: 0.7763, Test: 0.7242\n",
      "New best model saved (Val ROC AUC: 0.7763)\n"
     ]
    },
    {
     "name": "stderr",
     "output_type": "stream",
     "text": [
      "Training epoch: 0004: 100%|██████████| 40/40 [01:28<00:00,  2.21s/it]\n",
      "Evaluating epoch: 0004: 100%|██████████| 10/10 [13:25<00:00, 80.53s/it]\n"
     ]
    },
    {
     "name": "stdout",
     "output_type": "stream",
     "text": [
      "[Epoch 4] Loss: 0.3293, Train: 0.7951, Val: 0.7720, Test: 0.7261\n",
      "No improvement. Early stop counter: 1/10\n"
     ]
    },
    {
     "name": "stderr",
     "output_type": "stream",
     "text": [
      "Training epoch: 0005: 100%|██████████| 40/40 [01:27<00:00,  2.20s/it]\n",
      "Evaluating epoch: 0005: 100%|██████████| 10/10 [12:41<00:00, 76.20s/it]\n"
     ]
    },
    {
     "name": "stdout",
     "output_type": "stream",
     "text": [
      "[Epoch 5] Loss: 0.2908, Train: 0.8106, Val: 0.7889, Test: 0.7441\n",
      "New best model saved (Val ROC AUC: 0.7889)\n"
     ]
    },
    {
     "name": "stderr",
     "output_type": "stream",
     "text": [
      "Training epoch: 0006: 100%|██████████| 40/40 [01:29<00:00,  2.23s/it]\n",
      "Evaluating epoch: 0006: 100%|██████████| 10/10 [13:15<00:00, 79.59s/it]\n"
     ]
    },
    {
     "name": "stdout",
     "output_type": "stream",
     "text": [
      "[Epoch 6] Loss: 0.2840, Train: 0.8169, Val: 0.7959, Test: 0.7550\n",
      "New best model saved (Val ROC AUC: 0.7959)\n"
     ]
    },
    {
     "name": "stderr",
     "output_type": "stream",
     "text": [
      "Training epoch: 0007: 100%|██████████| 40/40 [01:28<00:00,  2.22s/it]\n",
      "Evaluating epoch: 0007: 100%|██████████| 10/10 [13:12<00:00, 79.23s/it]\n"
     ]
    },
    {
     "name": "stdout",
     "output_type": "stream",
     "text": [
      "[Epoch 7] Loss: 0.2840, Train: 0.8257, Val: 0.8022, Test: 0.7542\n",
      "New best model saved (Val ROC AUC: 0.8022)\n"
     ]
    },
    {
     "name": "stderr",
     "output_type": "stream",
     "text": [
      "Training epoch: 0008: 100%|██████████| 40/40 [01:27<00:00,  2.19s/it]\n",
      "Evaluating epoch: 0008: 100%|██████████| 10/10 [13:20<00:00, 80.06s/it]\n"
     ]
    },
    {
     "name": "stdout",
     "output_type": "stream",
     "text": [
      "[Epoch 8] Loss: 0.2783, Train: 0.8299, Val: 0.8040, Test: 0.7563\n",
      "New best model saved (Val ROC AUC: 0.8040)\n"
     ]
    },
    {
     "name": "stderr",
     "output_type": "stream",
     "text": [
      "Training epoch: 0009: 100%|██████████| 40/40 [01:28<00:00,  2.21s/it]\n",
      "Evaluating epoch: 0009: 100%|██████████| 10/10 [13:02<00:00, 78.23s/it]\n"
     ]
    },
    {
     "name": "stdout",
     "output_type": "stream",
     "text": [
      "[Epoch 9] Loss: 0.2746, Train: 0.8367, Val: 0.8088, Test: 0.7552\n",
      "New best model saved (Val ROC AUC: 0.8088)\n"
     ]
    },
    {
     "name": "stderr",
     "output_type": "stream",
     "text": [
      "Training epoch: 0010: 100%|██████████| 40/40 [01:27<00:00,  2.18s/it]\n",
      "Evaluating epoch: 0010: 100%|██████████| 10/10 [13:09<00:00, 78.98s/it]\n"
     ]
    },
    {
     "name": "stdout",
     "output_type": "stream",
     "text": [
      "[Epoch 10] Loss: 0.2725, Train: 0.8372, Val: 0.8081, Test: 0.7592\n",
      "No improvement. Early stop counter: 1/10\n"
     ]
    },
    {
     "name": "stderr",
     "output_type": "stream",
     "text": [
      "Training epoch: 0011: 100%|██████████| 40/40 [01:27<00:00,  2.19s/it]\n",
      "Evaluating epoch: 0011: 100%|██████████| 10/10 [13:22<00:00, 80.25s/it]\n"
     ]
    },
    {
     "name": "stdout",
     "output_type": "stream",
     "text": [
      "[Epoch 11] Loss: 0.2724, Train: 0.8408, Val: 0.8148, Test: 0.7549\n",
      "New best model saved (Val ROC AUC: 0.8148)\n"
     ]
    },
    {
     "name": "stderr",
     "output_type": "stream",
     "text": [
      "Training epoch: 0012: 100%|██████████| 40/40 [01:27<00:00,  2.20s/it]\n",
      "Evaluating epoch: 0012: 100%|██████████| 10/10 [10:55<00:00, 65.57s/it]\n"
     ]
    },
    {
     "name": "stdout",
     "output_type": "stream",
     "text": [
      "[Epoch 12] Loss: 0.2699, Train: 0.8454, Val: 0.8199, Test: 0.7660\n",
      "New best model saved (Val ROC AUC: 0.8199)\n"
     ]
    },
    {
     "name": "stderr",
     "output_type": "stream",
     "text": [
      "Training epoch: 0013: 100%|██████████| 40/40 [00:45<00:00,  1.14s/it]\n",
      "Evaluating epoch: 0013: 100%|██████████| 10/10 [06:03<00:00, 36.35s/it]\n"
     ]
    },
    {
     "name": "stdout",
     "output_type": "stream",
     "text": [
      "[Epoch 13] Loss: 0.2653, Train: 0.8476, Val: 0.8153, Test: 0.7598\n",
      "No improvement. Early stop counter: 1/10\n"
     ]
    },
    {
     "name": "stderr",
     "output_type": "stream",
     "text": [
      "Training epoch: 0014: 100%|██████████| 40/40 [00:39<00:00,  1.02it/s]\n",
      "Evaluating epoch: 0014: 100%|██████████| 10/10 [07:48<00:00, 46.90s/it]\n"
     ]
    },
    {
     "name": "stdout",
     "output_type": "stream",
     "text": [
      "[Epoch 14] Loss: 0.2639, Train: 0.8512, Val: 0.8146, Test: 0.7450\n",
      "No improvement. Early stop counter: 2/10\n"
     ]
    },
    {
     "name": "stderr",
     "output_type": "stream",
     "text": [
      "Training epoch: 0015: 100%|██████████| 40/40 [00:38<00:00,  1.04it/s]\n",
      "Evaluating epoch: 0015: 100%|██████████| 10/10 [15:03<00:00, 90.37s/it]\n"
     ]
    },
    {
     "name": "stdout",
     "output_type": "stream",
     "text": [
      "[Epoch 15] Loss: 0.2638, Train: 0.8465, Val: 0.8164, Test: 0.7625\n",
      "No improvement. Early stop counter: 3/10\n"
     ]
    },
    {
     "name": "stderr",
     "output_type": "stream",
     "text": [
      "Training epoch: 0016: 100%|██████████| 40/40 [01:27<00:00,  2.19s/it]\n",
      "Evaluating epoch: 0016: 100%|██████████| 10/10 [13:12<00:00, 79.29s/it]\n"
     ]
    },
    {
     "name": "stdout",
     "output_type": "stream",
     "text": [
      "[Epoch 16] Loss: 0.2607, Train: 0.8527, Val: 0.8207, Test: 0.7681\n",
      "No improvement. Early stop counter: 4/10\n"
     ]
    },
    {
     "name": "stderr",
     "output_type": "stream",
     "text": [
      "Training epoch: 0017: 100%|██████████| 40/40 [01:27<00:00,  2.19s/it]\n",
      "Evaluating epoch: 0017: 100%|██████████| 10/10 [12:58<00:00, 77.81s/it]\n"
     ]
    },
    {
     "name": "stdout",
     "output_type": "stream",
     "text": [
      "[Epoch 17] Loss: 0.2604, Train: 0.8559, Val: 0.8189, Test: 0.7458\n",
      "No improvement. Early stop counter: 5/10\n"
     ]
    },
    {
     "name": "stderr",
     "output_type": "stream",
     "text": [
      "Training epoch: 0018: 100%|██████████| 40/40 [01:27<00:00,  2.18s/it]\n",
      "Evaluating epoch: 0018: 100%|██████████| 10/10 [13:19<00:00, 79.92s/it]\n"
     ]
    },
    {
     "name": "stdout",
     "output_type": "stream",
     "text": [
      "[Epoch 18] Loss: 0.2573, Train: 0.8576, Val: 0.8199, Test: 0.7495\n",
      "No improvement. Early stop counter: 6/10\n"
     ]
    },
    {
     "name": "stderr",
     "output_type": "stream",
     "text": [
      "Training epoch: 0019: 100%|██████████| 40/40 [01:28<00:00,  2.20s/it]\n",
      "Evaluating epoch: 0019: 100%|██████████| 10/10 [13:25<00:00, 80.51s/it]\n"
     ]
    },
    {
     "name": "stdout",
     "output_type": "stream",
     "text": [
      "[Epoch 19] Loss: 0.2556, Train: 0.8605, Val: 0.8263, Test: 0.7630\n",
      "New best model saved (Val ROC AUC: 0.8263)\n"
     ]
    },
    {
     "name": "stderr",
     "output_type": "stream",
     "text": [
      "Training epoch: 0020: 100%|██████████| 40/40 [01:27<00:00,  2.19s/it]\n",
      "Evaluating epoch: 0020: 100%|██████████| 10/10 [13:09<00:00, 78.95s/it]\n"
     ]
    },
    {
     "name": "stdout",
     "output_type": "stream",
     "text": [
      "[Epoch 20] Loss: 0.2557, Train: 0.8610, Val: 0.8252, Test: 0.7602\n",
      "No improvement. Early stop counter: 1/10\n"
     ]
    },
    {
     "name": "stderr",
     "output_type": "stream",
     "text": [
      "Training epoch: 0021: 100%|██████████| 40/40 [01:26<00:00,  2.17s/it]\n",
      "Evaluating epoch: 0021: 100%|██████████| 10/10 [13:08<00:00, 78.85s/it]\n"
     ]
    },
    {
     "name": "stdout",
     "output_type": "stream",
     "text": [
      "[Epoch 21] Loss: 0.2533, Train: 0.8637, Val: 0.8264, Test: 0.7571\n",
      "No improvement. Early stop counter: 2/10\n"
     ]
    },
    {
     "name": "stderr",
     "output_type": "stream",
     "text": [
      "Training epoch: 0022: 100%|██████████| 40/40 [01:27<00:00,  2.18s/it]\n",
      "Evaluating epoch: 0022: 100%|██████████| 10/10 [17:20<00:00, 104.02s/it]\n"
     ]
    },
    {
     "name": "stdout",
     "output_type": "stream",
     "text": [
      "[Epoch 22] Loss: 0.2520, Train: 0.8643, Val: 0.8321, Test: 0.7705\n",
      "New best model saved (Val ROC AUC: 0.8321)\n"
     ]
    },
    {
     "name": "stderr",
     "output_type": "stream",
     "text": [
      "Training epoch: 0023: 100%|██████████| 40/40 [01:27<00:00,  2.18s/it]\n",
      "Evaluating epoch: 0023: 100%|██████████| 10/10 [13:13<00:00, 79.31s/it]\n"
     ]
    },
    {
     "name": "stdout",
     "output_type": "stream",
     "text": [
      "[Epoch 23] Loss: 0.2534, Train: 0.8648, Val: 0.8290, Test: 0.7683\n",
      "No improvement. Early stop counter: 1/10\n"
     ]
    },
    {
     "name": "stderr",
     "output_type": "stream",
     "text": [
      "Training epoch: 0024: 100%|██████████| 40/40 [01:27<00:00,  2.18s/it]\n",
      "Evaluating epoch: 0024: 100%|██████████| 10/10 [13:15<00:00, 79.51s/it]\n"
     ]
    },
    {
     "name": "stdout",
     "output_type": "stream",
     "text": [
      "[Epoch 24] Loss: 0.2534, Train: 0.8681, Val: 0.8319, Test: 0.7610\n",
      "No improvement. Early stop counter: 2/10\n"
     ]
    },
    {
     "name": "stderr",
     "output_type": "stream",
     "text": [
      "Training epoch: 0025: 100%|██████████| 40/40 [01:27<00:00,  2.18s/it]\n",
      "Evaluating epoch: 0025: 100%|██████████| 10/10 [12:40<00:00, 76.07s/it]\n"
     ]
    },
    {
     "name": "stdout",
     "output_type": "stream",
     "text": [
      "[Epoch 25] Loss: 0.2492, Train: 0.8647, Val: 0.8231, Test: 0.7509\n",
      "No improvement. Early stop counter: 3/10\n"
     ]
    },
    {
     "name": "stderr",
     "output_type": "stream",
     "text": [
      "Training epoch: 0026: 100%|██████████| 40/40 [01:27<00:00,  2.20s/it]\n",
      "Evaluating epoch: 0026: 100%|██████████| 10/10 [12:57<00:00, 77.77s/it]\n"
     ]
    },
    {
     "name": "stdout",
     "output_type": "stream",
     "text": [
      "[Epoch 26] Loss: 0.2488, Train: 0.8688, Val: 0.8353, Test: 0.7621\n",
      "New best model saved (Val ROC AUC: 0.8353)\n"
     ]
    },
    {
     "name": "stderr",
     "output_type": "stream",
     "text": [
      "Training epoch: 0027: 100%|██████████| 40/40 [01:26<00:00,  2.16s/it]\n",
      "Evaluating epoch: 0027: 100%|██████████| 10/10 [13:05<00:00, 78.56s/it]\n"
     ]
    },
    {
     "name": "stdout",
     "output_type": "stream",
     "text": [
      "[Epoch 27] Loss: 0.2510, Train: 0.8650, Val: 0.8280, Test: 0.7540\n",
      "No improvement. Early stop counter: 1/10\n"
     ]
    },
    {
     "name": "stderr",
     "output_type": "stream",
     "text": [
      "Training epoch: 0028: 100%|██████████| 40/40 [01:26<00:00,  2.17s/it]\n",
      "Evaluating epoch: 0028: 100%|██████████| 10/10 [15:38<00:00, 93.81s/it]\n"
     ]
    },
    {
     "name": "stdout",
     "output_type": "stream",
     "text": [
      "[Epoch 28] Loss: 0.2482, Train: 0.8702, Val: 0.8288, Test: 0.7417\n",
      "No improvement. Early stop counter: 2/10\n"
     ]
    },
    {
     "name": "stderr",
     "output_type": "stream",
     "text": [
      "Training epoch: 0029: 100%|██████████| 40/40 [01:27<00:00,  2.18s/it]\n",
      "Evaluating epoch: 0029: 100%|██████████| 10/10 [13:08<00:00, 78.81s/it]\n"
     ]
    },
    {
     "name": "stdout",
     "output_type": "stream",
     "text": [
      "[Epoch 29] Loss: 0.2454, Train: 0.8697, Val: 0.8362, Test: 0.7680\n",
      "No improvement. Early stop counter: 3/10\n"
     ]
    },
    {
     "name": "stderr",
     "output_type": "stream",
     "text": [
      "Training epoch: 0030: 100%|██████████| 40/40 [01:28<00:00,  2.20s/it]\n",
      "Evaluating epoch: 0030: 100%|██████████| 10/10 [18:58<00:00, 113.83s/it]\n"
     ]
    },
    {
     "name": "stdout",
     "output_type": "stream",
     "text": [
      "[Epoch 30] Loss: 0.2460, Train: 0.8713, Val: 0.8380, Test: 0.7718\n",
      "New best model saved (Val ROC AUC: 0.8380)\n"
     ]
    },
    {
     "name": "stderr",
     "output_type": "stream",
     "text": [
      "Training epoch: 0031: 100%|██████████| 40/40 [01:27<00:00,  2.20s/it]\n",
      "Evaluating epoch: 0031: 100%|██████████| 10/10 [13:05<00:00, 78.57s/it]\n"
     ]
    },
    {
     "name": "stdout",
     "output_type": "stream",
     "text": [
      "[Epoch 31] Loss: 0.2448, Train: 0.8724, Val: 0.8315, Test: 0.7662\n",
      "No improvement. Early stop counter: 1/10\n"
     ]
    },
    {
     "name": "stderr",
     "output_type": "stream",
     "text": [
      "Training epoch: 0032: 100%|██████████| 40/40 [01:27<00:00,  2.20s/it]\n",
      "Evaluating epoch: 0032: 100%|██████████| 10/10 [13:09<00:00, 78.94s/it]\n"
     ]
    },
    {
     "name": "stdout",
     "output_type": "stream",
     "text": [
      "[Epoch 32] Loss: 0.2454, Train: 0.8742, Val: 0.8337, Test: 0.7526\n",
      "No improvement. Early stop counter: 2/10\n"
     ]
    },
    {
     "name": "stderr",
     "output_type": "stream",
     "text": [
      "Training epoch: 0033: 100%|██████████| 40/40 [01:27<00:00,  2.19s/it]\n",
      "Evaluating epoch: 0033: 100%|██████████| 10/10 [13:15<00:00, 79.58s/it]\n"
     ]
    },
    {
     "name": "stdout",
     "output_type": "stream",
     "text": [
      "[Epoch 33] Loss: 0.2443, Train: 0.8717, Val: 0.8295, Test: 0.7533\n",
      "No improvement. Early stop counter: 3/10\n"
     ]
    },
    {
     "name": "stderr",
     "output_type": "stream",
     "text": [
      "Training epoch: 0034: 100%|██████████| 40/40 [01:27<00:00,  2.18s/it]\n",
      "Evaluating epoch: 0034: 100%|██████████| 10/10 [13:17<00:00, 79.77s/it]\n"
     ]
    },
    {
     "name": "stdout",
     "output_type": "stream",
     "text": [
      "[Epoch 34] Loss: 0.2430, Train: 0.8736, Val: 0.8333, Test: 0.7693\n",
      "No improvement. Early stop counter: 4/10\n"
     ]
    },
    {
     "name": "stderr",
     "output_type": "stream",
     "text": [
      "Training epoch: 0035: 100%|██████████| 40/40 [01:26<00:00,  2.17s/it]\n",
      "Evaluating epoch: 0035: 100%|██████████| 10/10 [13:06<00:00, 78.65s/it]\n"
     ]
    },
    {
     "name": "stdout",
     "output_type": "stream",
     "text": [
      "[Epoch 35] Loss: 0.2441, Train: 0.8765, Val: 0.8410, Test: 0.7708\n",
      "New best model saved (Val ROC AUC: 0.8410)\n"
     ]
    },
    {
     "name": "stderr",
     "output_type": "stream",
     "text": [
      "Training epoch: 0036: 100%|██████████| 40/40 [01:27<00:00,  2.19s/it]\n",
      "Evaluating epoch: 0036: 100%|██████████| 10/10 [13:29<00:00, 80.98s/it]\n"
     ]
    },
    {
     "name": "stdout",
     "output_type": "stream",
     "text": [
      "[Epoch 36] Loss: 0.2436, Train: 0.8750, Val: 0.8323, Test: 0.7423\n",
      "No improvement. Early stop counter: 1/10\n"
     ]
    },
    {
     "name": "stderr",
     "output_type": "stream",
     "text": [
      "Training epoch: 0037: 100%|██████████| 40/40 [01:27<00:00,  2.19s/it]\n",
      "Evaluating epoch: 0037: 100%|██████████| 10/10 [13:34<00:00, 81.43s/it]\n"
     ]
    },
    {
     "name": "stdout",
     "output_type": "stream",
     "text": [
      "[Epoch 37] Loss: 0.2405, Train: 0.8758, Val: 0.8384, Test: 0.7711\n",
      "No improvement. Early stop counter: 2/10\n"
     ]
    },
    {
     "name": "stderr",
     "output_type": "stream",
     "text": [
      "Training epoch: 0038: 100%|██████████| 40/40 [01:28<00:00,  2.22s/it]\n",
      "Evaluating epoch: 0038: 100%|██████████| 10/10 [14:51<00:00, 89.19s/it]\n"
     ]
    },
    {
     "name": "stdout",
     "output_type": "stream",
     "text": [
      "[Epoch 38] Loss: 0.2391, Train: 0.8733, Val: 0.8330, Test: 0.7680\n",
      "No improvement. Early stop counter: 3/10\n"
     ]
    },
    {
     "name": "stderr",
     "output_type": "stream",
     "text": [
      "Training epoch: 0039: 100%|██████████| 40/40 [01:28<00:00,  2.20s/it]\n",
      "Evaluating epoch: 0039: 100%|██████████| 10/10 [13:19<00:00, 79.97s/it]\n"
     ]
    },
    {
     "name": "stdout",
     "output_type": "stream",
     "text": [
      "[Epoch 39] Loss: 0.2406, Train: 0.8760, Val: 0.8398, Test: 0.7794\n",
      "No improvement. Early stop counter: 4/10\n"
     ]
    },
    {
     "name": "stderr",
     "output_type": "stream",
     "text": [
      "Training epoch: 0040: 100%|██████████| 40/40 [01:28<00:00,  2.22s/it]\n",
      "Evaluating epoch: 0040: 100%|██████████| 10/10 [13:00<00:00, 78.09s/it]\n"
     ]
    },
    {
     "name": "stdout",
     "output_type": "stream",
     "text": [
      "[Epoch 40] Loss: 0.2391, Train: 0.8799, Val: 0.8429, Test: 0.7775\n",
      "New best model saved (Val ROC AUC: 0.8429)\n"
     ]
    },
    {
     "name": "stderr",
     "output_type": "stream",
     "text": [
      "Training epoch: 0041: 100%|██████████| 40/40 [01:30<00:00,  2.25s/it]\n",
      "Evaluating epoch: 0041: 100%|██████████| 10/10 [13:02<00:00, 78.28s/it]\n"
     ]
    },
    {
     "name": "stdout",
     "output_type": "stream",
     "text": [
      "[Epoch 41] Loss: 0.2390, Train: 0.8785, Val: 0.8381, Test: 0.7741\n",
      "No improvement. Early stop counter: 1/10\n"
     ]
    },
    {
     "name": "stderr",
     "output_type": "stream",
     "text": [
      "Training epoch: 0042: 100%|██████████| 40/40 [01:29<00:00,  2.23s/it]\n",
      "Evaluating epoch: 0042: 100%|██████████| 10/10 [13:05<00:00, 78.54s/it]\n"
     ]
    },
    {
     "name": "stdout",
     "output_type": "stream",
     "text": [
      "[Epoch 42] Loss: 0.2382, Train: 0.8767, Val: 0.8390, Test: 0.7763\n",
      "No improvement. Early stop counter: 2/10\n"
     ]
    },
    {
     "name": "stderr",
     "output_type": "stream",
     "text": [
      "Training epoch: 0043: 100%|██████████| 40/40 [01:28<00:00,  2.21s/it]\n",
      "Evaluating epoch: 0043: 100%|██████████| 10/10 [13:12<00:00, 79.29s/it]\n"
     ]
    },
    {
     "name": "stdout",
     "output_type": "stream",
     "text": [
      "[Epoch 43] Loss: 0.2388, Train: 0.8783, Val: 0.8323, Test: 0.7489\n",
      "No improvement. Early stop counter: 3/10\n"
     ]
    },
    {
     "name": "stderr",
     "output_type": "stream",
     "text": [
      "Training epoch: 0044: 100%|██████████| 40/40 [01:28<00:00,  2.21s/it]\n",
      "Evaluating epoch: 0044: 100%|██████████| 10/10 [13:07<00:00, 78.71s/it]\n"
     ]
    },
    {
     "name": "stdout",
     "output_type": "stream",
     "text": [
      "[Epoch 44] Loss: 0.2389, Train: 0.8785, Val: 0.8402, Test: 0.7663\n",
      "No improvement. Early stop counter: 4/10\n"
     ]
    },
    {
     "name": "stderr",
     "output_type": "stream",
     "text": [
      "Training epoch: 0045: 100%|██████████| 40/40 [01:28<00:00,  2.21s/it]\n",
      "Evaluating epoch: 0045: 100%|██████████| 10/10 [13:25<00:00, 80.51s/it]\n"
     ]
    },
    {
     "name": "stdout",
     "output_type": "stream",
     "text": [
      "[Epoch 45] Loss: 0.2370, Train: 0.8829, Val: 0.8442, Test: 0.7681\n",
      "New best model saved (Val ROC AUC: 0.8442)\n"
     ]
    },
    {
     "name": "stderr",
     "output_type": "stream",
     "text": [
      "Training epoch: 0046: 100%|██████████| 40/40 [01:27<00:00,  2.20s/it]\n",
      "Evaluating epoch: 0046: 100%|██████████| 10/10 [12:42<00:00, 76.28s/it]\n"
     ]
    },
    {
     "name": "stdout",
     "output_type": "stream",
     "text": [
      "[Epoch 46] Loss: 0.2362, Train: 0.8825, Val: 0.8441, Test: 0.7713\n",
      "No improvement. Early stop counter: 1/10\n"
     ]
    },
    {
     "name": "stderr",
     "output_type": "stream",
     "text": [
      "Training epoch: 0047: 100%|██████████| 40/40 [01:27<00:00,  2.19s/it]\n",
      "Evaluating epoch: 0047: 100%|██████████| 10/10 [09:34<00:00, 57.45s/it]\n"
     ]
    },
    {
     "name": "stdout",
     "output_type": "stream",
     "text": [
      "[Epoch 47] Loss: 0.2361, Train: 0.8834, Val: 0.8365, Test: 0.7669\n",
      "No improvement. Early stop counter: 2/10\n"
     ]
    },
    {
     "name": "stderr",
     "output_type": "stream",
     "text": [
      "Training epoch: 0048: 100%|██████████| 40/40 [00:48<00:00,  1.22s/it]\n",
      "Evaluating epoch: 0048: 100%|██████████| 10/10 [13:08<00:00, 78.80s/it]\n"
     ]
    },
    {
     "name": "stdout",
     "output_type": "stream",
     "text": [
      "[Epoch 48] Loss: 0.2369, Train: 0.8759, Val: 0.8324, Test: 0.7534\n",
      "No improvement. Early stop counter: 3/10\n"
     ]
    },
    {
     "name": "stderr",
     "output_type": "stream",
     "text": [
      "Training epoch: 0049: 100%|██████████| 40/40 [01:28<00:00,  2.20s/it]\n",
      "Evaluating epoch: 0049: 100%|██████████| 10/10 [16:56<00:00, 101.65s/it]\n"
     ]
    },
    {
     "name": "stdout",
     "output_type": "stream",
     "text": [
      "[Epoch 49] Loss: 0.2366, Train: 0.8803, Val: 0.8375, Test: 0.7699\n",
      "No improvement. Early stop counter: 4/10\n"
     ]
    },
    {
     "name": "stderr",
     "output_type": "stream",
     "text": [
      "Training epoch: 0050: 100%|██████████| 40/40 [01:28<00:00,  2.20s/it]\n",
      "Evaluating epoch: 0050: 100%|██████████| 10/10 [19:46<00:00, 118.63s/it]\n"
     ]
    },
    {
     "name": "stdout",
     "output_type": "stream",
     "text": [
      "[Epoch 50] Loss: 0.2339, Train: 0.8797, Val: 0.8387, Test: 0.7545\n",
      "No improvement. Early stop counter: 5/10\n"
     ]
    },
    {
     "name": "stderr",
     "output_type": "stream",
     "text": [
      "Training epoch: 0051: 100%|██████████| 40/40 [01:32<00:00,  2.31s/it]\n",
      "Evaluating epoch: 0051: 100%|██████████| 10/10 [13:05<00:00, 78.57s/it]\n"
     ]
    },
    {
     "name": "stdout",
     "output_type": "stream",
     "text": [
      "[Epoch 51] Loss: 0.2347, Train: 0.8837, Val: 0.8369, Test: 0.7654\n",
      "No improvement. Early stop counter: 6/10\n"
     ]
    },
    {
     "name": "stderr",
     "output_type": "stream",
     "text": [
      "Training epoch: 0052: 100%|██████████| 40/40 [01:28<00:00,  2.21s/it]\n",
      "Evaluating epoch: 0052: 100%|██████████| 10/10 [19:01<00:00, 114.18s/it]\n"
     ]
    },
    {
     "name": "stdout",
     "output_type": "stream",
     "text": [
      "[Epoch 52] Loss: 0.2339, Train: 0.8838, Val: 0.8335, Test: 0.7620\n",
      "No improvement. Early stop counter: 7/10\n"
     ]
    },
    {
     "name": "stderr",
     "output_type": "stream",
     "text": [
      "Training epoch: 0053: 100%|██████████| 40/40 [01:27<00:00,  2.20s/it]\n",
      "Evaluating epoch: 0053: 100%|██████████| 10/10 [13:01<00:00, 78.17s/it]\n"
     ]
    },
    {
     "name": "stdout",
     "output_type": "stream",
     "text": [
      "[Epoch 53] Loss: 0.2331, Train: 0.8845, Val: 0.8435, Test: 0.7796\n",
      "No improvement. Early stop counter: 8/10\n"
     ]
    },
    {
     "name": "stderr",
     "output_type": "stream",
     "text": [
      "Training epoch: 0054: 100%|██████████| 40/40 [01:28<00:00,  2.21s/it]\n",
      "Evaluating epoch: 0054: 100%|██████████| 10/10 [13:47<00:00, 82.73s/it]\n"
     ]
    },
    {
     "name": "stdout",
     "output_type": "stream",
     "text": [
      "[Epoch 54] Loss: 0.2319, Train: 0.8862, Val: 0.8437, Test: 0.7807\n",
      "No improvement. Early stop counter: 9/10\n"
     ]
    },
    {
     "name": "stderr",
     "output_type": "stream",
     "text": [
      "Training epoch: 0055: 100%|██████████| 40/40 [01:27<00:00,  2.18s/it]\n",
      "Evaluating epoch: 0055: 100%|██████████| 10/10 [18:56<00:00, 113.68s/it]\n"
     ]
    },
    {
     "name": "stdout",
     "output_type": "stream",
     "text": [
      "[Epoch 55] Loss: 0.2322, Train: 0.8838, Val: 0.8446, Test: 0.7806\n",
      "No improvement. Early stop counter: 10/10\n",
      "Early stopping at epoch 55\n"
     ]
    }
   ],
   "source": [
    "epochs = 100\n",
    "patience = 10\n",
    "delta = 0.001\n",
    "best_val_score = None\n",
    "early_stop_counter = 0\n",
    "\n",
    "train_losses = []\n",
    "rocauc = []\n",
    "\n",
    "for epoch in range(1, epochs + 1):\n",
    "    loss = train(model, optimizer, criterion, train_loader, epoch)\n",
    "    train_losses.append(loss)\n",
    "\n",
    "    train_rocauc, valid_rocauc, test_rocauc = test(model, test_loader, epoch, device, evaluator)\n",
    "    rocauc.append((train_rocauc, valid_rocauc, test_rocauc))\n",
    "\n",
    "    print(f'[Epoch {epoch}] Loss: {loss:.4f}, Train: {train_rocauc:.4f}, '\n",
    "          f'Val: {valid_rocauc:.4f}, Test: {test_rocauc:.4f}')\n",
    "\n",
    "    # Early stopping logic\n",
    "    if best_val_score is None or valid_rocauc > best_val_score + delta:\n",
    "        best_val_score = valid_rocauc\n",
    "        early_stop_counter = 0\n",
    "        torch.save(model.state_dict(), 'best_model_60_layers.pt')\n",
    "        print(f\"New best model saved (Val ROC AUC: {valid_rocauc:.4f})\")\n",
    "    else:\n",
    "        early_stop_counter += 1\n",
    "        print(f\"No improvement. Early stop counter: {early_stop_counter}/{patience}\")\n",
    "\n",
    "    if early_stop_counter >= patience:\n",
    "        print(f\"Early stopping at epoch {epoch}\")\n",
    "        break"
   ]
  },
  {
   "cell_type": "code",
   "execution_count": 10,
   "metadata": {},
   "outputs": [],
   "source": [
    "import pandas as pd\n",
    "\n",
    "# Prepare data\n",
    "df = pd.DataFrame({\n",
    "    'epoch': list(range(1, epochs + 1)),\n",
    "    'train_loss': train_losses,\n",
    "    'train_rocauc': [r[0] for r in rocauc],\n",
    "    'val_rocauc': [r[1] for r in rocauc],\n",
    "    'test_rocauc': [r[2] for r in rocauc]\n",
    "})\n",
    "\n",
    "# Save to CSV\n",
    "df.to_csv('50layer_55epoch_results_lr_0.01.csv', index=False)\n"
   ]
  },
  {
   "cell_type": "code",
   "execution_count": 9,
   "metadata": {},
   "outputs": [],
   "source": [
    "import pandas as pd\n",
    "\n",
    "# Load the CSV\n",
    "df = pd.read_csv('30layer_30epoch_results_lr_0.01.csv')\n",
    "\n",
    "# Extract values\n",
    "epochs = len(df)  # or df['epoch'].tolist() if you want the list\n",
    "train_losses = df['train_loss'].tolist()\n",
    "rocauc = list(zip(df['train_rocauc'], df['val_rocauc'], df['test_rocauc']))\n"
   ]
  },
  {
   "cell_type": "code",
   "execution_count": 11,
   "metadata": {},
   "outputs": [
    {
     "data": {
      "image/png": "[encoded data removed]",
      "text/plain": [
       "<Figure size 1200x500 with 2 Axes>"
      ]
     },
     "metadata": {},
     "output_type": "display_data"
    }
   ],
   "source": [
    "import matplotlib.pyplot as plt\n",
    "# Unpack ROC AUCs\n",
    "train_rocauc_vals = [r[0] for r in rocauc]\n",
    "val_rocauc_vals = [r[1] for r in rocauc]\n",
    "test_rocauc_vals = [r[2] for r in rocauc]  # optional\n",
    "epochs = 55\n",
    "epochs_range = range(1, epochs + 1)\n",
    "\n",
    "plt.figure(figsize=(12, 5))\n",
    "\n",
    "# Plot training loss\n",
    "plt.subplot(1, 2, 1)\n",
    "plt.plot(epochs_range, train_losses, label='Training Loss', color='tab:blue')\n",
    "plt.xlabel('Epoch')\n",
    "plt.ylabel('Loss')\n",
    "plt.title('Training Loss over Epochs')\n",
    "plt.grid(True)\n",
    "# plt.ylim(bottom=0)\n",
    "plt.xlim(left=1)\n",
    "plt.legend()\n",
    "\n",
    "# Plot ROC AUCs\n",
    "plt.subplot(1, 2, 2)\n",
    "plt.plot(epochs_range, train_rocauc_vals, label='Train ROC AUC', color='tab:green')\n",
    "plt.plot(epochs_range, val_rocauc_vals, label='Validation ROC AUC', color='tab:orange')\n",
    "# plt.plot(epochs_range, test_rocauc_vals, label='Test ROC AUC', color='tab:red', linestyle='--')\n",
    "plt.xlabel('Epoch')\n",
    "plt.ylabel('ROC AUC')\n",
    "plt.title('ROC AUC over Epochs')\n",
    "plt.xlim(left=1)\n",
    "\n",
    "plt.grid(True)\n",
    "plt.legend()\n",
    "\n",
    "plt.tight_layout()\n",
    "plt.show()\n"
   ]
  },
  {
   "cell_type": "markdown",
   "metadata": {},
   "source": [
    "Troubleshooting CUDA"
   ]
  },
  {
   "cell_type": "code",
   "execution_count": null,
   "metadata": {},
   "outputs": [],
   "source": [
    "import torch\n",
    "print(torch.cuda.is_available())\n",
    "print(torch.cuda.current_device())\n",
    "print(torch.cuda.get_device_name(0))\n",
    "\n",
    "print(torch.cuda.memory_allocated())\n",
    "print(torch.cuda.memory_reserved())"
   ]
  }
 ],
 "metadata": {
  "kernelspec": {
   "display_name": ".venv",
   "language": "python",
   "name": "python3"
  },
  "language_info": {
   "codemirror_mode": {
    "name": "ipython",
    "version": 3
   },
   "file_extension": ".py",
   "mimetype": "text/x-python",
   "name": "python",
   "nbconvert_exporter": "python",
   "pygments_lexer": "ipython3",
   "version": "3.11.9"
  }
 },
 "nbformat": 4,
 "nbformat_minor": 2
}
